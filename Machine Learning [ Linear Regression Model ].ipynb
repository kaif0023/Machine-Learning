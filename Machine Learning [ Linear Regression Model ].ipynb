{
 "cells": [
  {
   "cell_type": "markdown",
   "id": "1ba8e117",
   "metadata": {},
   "source": [
    "## Importing Required Libraries"
   ]
  },
  {
   "cell_type": "code",
   "execution_count": 1,
   "id": "5766e3a0",
   "metadata": {},
   "outputs": [],
   "source": [
    "import pandas as pd\n",
    "import numpy as np\n",
    "import matplotlib.pyplot as plt\n",
    "from scipy import stats as st\n",
    "from sklearn.model_selection import train_test_split\n",
    "from sklearn.linear_model import LinearRegression\n",
    "import seaborn as sns\n",
    "import pylab\n",
    "from sklearn.preprocessing import StandardScaler\n",
    "from sklearn.metrics import mean_squared_error as mse, mean_absolute_error as mae,r2_score"
   ]
  },
  {
   "cell_type": "code",
   "execution_count": null,
   "id": "42073916",
   "metadata": {},
   "outputs": [],
   "source": []
  },
  {
   "cell_type": "markdown",
   "id": "1efb8dfa",
   "metadata": {},
   "source": [
    "## Reading The Dataset"
   ]
  },
  {
   "cell_type": "code",
   "execution_count": 2,
   "id": "b2d92d82",
   "metadata": {},
   "outputs": [],
   "source": [
    "data=pd.read_csv(\"C:\\\\Users\\\\md kaif\\\\Downloads\\\\machine_learning_dataset-20230125T051028Z-001\\\\machine_learning_dataset\\\\placement.csv\")"
   ]
  },
  {
   "cell_type": "code",
   "execution_count": 3,
   "id": "5629b799",
   "metadata": {},
   "outputs": [
    {
     "data": {
      "text/html": [
       "<div>\n",
       "<style scoped>\n",
       "    .dataframe tbody tr th:only-of-type {\n",
       "        vertical-align: middle;\n",
       "    }\n",
       "\n",
       "    .dataframe tbody tr th {\n",
       "        vertical-align: top;\n",
       "    }\n",
       "\n",
       "    .dataframe thead th {\n",
       "        text-align: right;\n",
       "    }\n",
       "</style>\n",
       "<table border=\"1\" class=\"dataframe\">\n",
       "  <thead>\n",
       "    <tr style=\"text-align: right;\">\n",
       "      <th></th>\n",
       "      <th>cgpa</th>\n",
       "      <th>package</th>\n",
       "    </tr>\n",
       "  </thead>\n",
       "  <tbody>\n",
       "    <tr>\n",
       "      <th>0</th>\n",
       "      <td>6.89</td>\n",
       "      <td>3.26</td>\n",
       "    </tr>\n",
       "    <tr>\n",
       "      <th>1</th>\n",
       "      <td>5.12</td>\n",
       "      <td>1.98</td>\n",
       "    </tr>\n",
       "    <tr>\n",
       "      <th>2</th>\n",
       "      <td>7.82</td>\n",
       "      <td>3.25</td>\n",
       "    </tr>\n",
       "    <tr>\n",
       "      <th>3</th>\n",
       "      <td>7.42</td>\n",
       "      <td>3.67</td>\n",
       "    </tr>\n",
       "    <tr>\n",
       "      <th>4</th>\n",
       "      <td>6.94</td>\n",
       "      <td>3.57</td>\n",
       "    </tr>\n",
       "  </tbody>\n",
       "</table>\n",
       "</div>"
      ],
      "text/plain": [
       "   cgpa  package\n",
       "0  6.89     3.26\n",
       "1  5.12     1.98\n",
       "2  7.82     3.25\n",
       "3  7.42     3.67\n",
       "4  6.94     3.57"
      ]
     },
     "execution_count": 3,
     "metadata": {},
     "output_type": "execute_result"
    }
   ],
   "source": [
    "data.head()"
   ]
  },
  {
   "cell_type": "code",
   "execution_count": 4,
   "id": "0a3a4654",
   "metadata": {},
   "outputs": [
    {
     "data": {
      "text/plain": [
       "(200, 2)"
      ]
     },
     "execution_count": 4,
     "metadata": {},
     "output_type": "execute_result"
    }
   ],
   "source": [
    "data.shape"
   ]
  },
  {
   "cell_type": "code",
   "execution_count": 5,
   "id": "63130a95",
   "metadata": {},
   "outputs": [
    {
     "name": "stdout",
     "output_type": "stream",
     "text": [
      "<class 'pandas.core.frame.DataFrame'>\n",
      "RangeIndex: 200 entries, 0 to 199\n",
      "Data columns (total 2 columns):\n",
      " #   Column   Non-Null Count  Dtype  \n",
      "---  ------   --------------  -----  \n",
      " 0   cgpa     200 non-null    float64\n",
      " 1   package  200 non-null    float64\n",
      "dtypes: float64(2)\n",
      "memory usage: 3.2 KB\n"
     ]
    }
   ],
   "source": [
    "data.info()"
   ]
  },
  {
   "cell_type": "markdown",
   "id": "1ad6bbbf",
   "metadata": {},
   "source": [
    "### Assumption  :- Linearity "
   ]
  },
  {
   "cell_type": "markdown",
   "id": "1563820d",
   "metadata": {},
   "source": [
    "it assumes there is a linear relation between dependent and independent Values"
   ]
  },
  {
   "cell_type": "code",
   "execution_count": 6,
   "id": "4f71365d",
   "metadata": {},
   "outputs": [
    {
     "data": {
      "image/png": "[encoded data removed]",
      "text/plain": [
       "<Figure size 640x480 with 1 Axes>"
      ]
     },
     "metadata": {},
     "output_type": "display_data"
    }
   ],
   "source": [
    "sns.scatterplot(x=\"cgpa\",y=\"package\",data=data);"
   ]
  },
  {
   "cell_type": "markdown",
   "id": "c3407a4d",
   "metadata": {},
   "source": [
    "## Segregating The X And Y"
   ]
  },
  {
   "cell_type": "code",
   "execution_count": 7,
   "id": "616e8622",
   "metadata": {},
   "outputs": [],
   "source": [
    "x=data[[\"cgpa\"]]\n",
    "y=data[[\"package\"]]"
   ]
  },
  {
   "cell_type": "markdown",
   "id": "bff03195",
   "metadata": {},
   "source": [
    "## Splitting The Data Into Train And Test"
   ]
  },
  {
   "cell_type": "code",
   "execution_count": 8,
   "id": "a6992768",
   "metadata": {},
   "outputs": [],
   "source": [
    "x_train,x_test,y_train,y_test=train_test_split(x,y,test_size=0.20)"
   ]
  },
  {
   "cell_type": "markdown",
   "id": "dc4e2183",
   "metadata": {},
   "source": [
    "## Checking The Shape Of The Training Data"
   ]
  },
  {
   "cell_type": "code",
   "execution_count": 9,
   "id": "de04fda8",
   "metadata": {},
   "outputs": [
    {
     "name": "stdout",
     "output_type": "stream",
     "text": [
      "(160, 1)\n",
      "(160, 1)\n"
     ]
    }
   ],
   "source": [
    "print(x_train.shape)\n",
    "print(y_train.shape)"
   ]
  },
  {
   "cell_type": "markdown",
   "id": "d4d6ca01",
   "metadata": {},
   "source": [
    "## Checking The Shape Of The Testing Data"
   ]
  },
  {
   "cell_type": "code",
   "execution_count": 10,
   "id": "e23e2c04",
   "metadata": {},
   "outputs": [
    {
     "name": "stdout",
     "output_type": "stream",
     "text": [
      "(40, 1)\n",
      "(40, 1)\n"
     ]
    }
   ],
   "source": [
    "print(x_test.shape)\n",
    "print(y_test.shape)"
   ]
  },
  {
   "cell_type": "code",
   "execution_count": 11,
   "id": "6c447f7b",
   "metadata": {},
   "outputs": [],
   "source": [
    "lr=LinearRegression()"
   ]
  },
  {
   "cell_type": "code",
   "execution_count": 12,
   "id": "f4001b95",
   "metadata": {},
   "outputs": [
    {
     "data": {
      "text/plain": [
       "LinearRegression()"
      ]
     },
     "execution_count": 12,
     "metadata": {},
     "output_type": "execute_result"
    }
   ],
   "source": [
    "lr.fit(x_train,y_train)  ## Training data"
   ]
  },
  {
   "cell_type": "code",
   "execution_count": 13,
   "id": "ff44811e",
   "metadata": {},
   "outputs": [
    {
     "data": {
      "text/plain": [
       "array([-0.96558543])"
      ]
     },
     "execution_count": 13,
     "metadata": {},
     "output_type": "execute_result"
    }
   ],
   "source": [
    "lr.intercept_             ## b which Machine learned is the best fit line"
   ]
  },
  {
   "cell_type": "code",
   "execution_count": 14,
   "id": "725772f8",
   "metadata": {},
   "outputs": [
    {
     "data": {
      "text/plain": [
       "array([[0.56792052]])"
      ]
     },
     "execution_count": 14,
     "metadata": {},
     "output_type": "execute_result"
    }
   ],
   "source": [
    "lr.coef_               ## optimised best fit line"
   ]
  },
  {
   "cell_type": "code",
   "execution_count": 15,
   "id": "0787c1b0",
   "metadata": {},
   "outputs": [],
   "source": [
    "y=0.58*x-1.085           ## Equation Of Predicted Line Or Best Fit Line"
   ]
  },
  {
   "cell_type": "markdown",
   "id": "beaee517",
   "metadata": {},
   "source": [
    "## Evaluate The Model Performences"
   ]
  },
  {
   "cell_type": "code",
   "execution_count": 16,
   "id": "f4a32d6b",
   "metadata": {},
   "outputs": [
    {
     "name": "stdout",
     "output_type": "stream",
     "text": [
      "[[2.87355729]\n",
      " [3.7538341 ]\n",
      " [2.94738696]\n",
      " [2.48169213]\n",
      " [3.63457079]\n",
      " [3.16887596]\n",
      " [4.23656654]\n",
      " [3.07232947]\n",
      " [4.36150905]\n",
      " [2.81676524]\n",
      " [2.78269001]\n",
      " [2.63503067]\n",
      " [2.48169213]\n",
      " [2.92467014]\n",
      " [2.9928206 ]\n",
      " [3.08936709]\n",
      " [3.08936709]\n",
      " [3.12912152]\n",
      " [1.72067863]\n",
      " [2.49872975]\n",
      " [3.54938271]\n",
      " [2.14661902]\n",
      " [3.94692707]\n",
      " [2.54984259]\n",
      " [3.2143096 ]\n",
      " [4.14002005]\n",
      " [2.17501505]\n",
      " [2.23748631]\n",
      " [2.96442457]\n",
      " [3.07232947]\n",
      " [3.51530748]\n",
      " [2.97578298]\n",
      " [2.41354167]\n",
      " [1.62981135]\n",
      " [2.97578298]\n",
      " [2.89059491]\n",
      " [3.11208391]\n",
      " [2.8849157 ]\n",
      " [3.5437035 ]\n",
      " [3.58345794]]\n"
     ]
    }
   ],
   "source": [
    "y_pred=lr.predict(x_test)\n",
    "print(y_pred)"
   ]
  },
  {
   "cell_type": "code",
   "execution_count": 17,
   "id": "fde141fb",
   "metadata": {},
   "outputs": [
    {
     "data": {
      "text/plain": [
       "0.2951603688029208"
      ]
     },
     "execution_count": 17,
     "metadata": {},
     "output_type": "execute_result"
    }
   ],
   "source": [
    "mae1=mae(y_test,y_pred)\n",
    "mae1"
   ]
  },
  {
   "cell_type": "code",
   "execution_count": 18,
   "id": "282c1795",
   "metadata": {},
   "outputs": [
    {
     "data": {
      "text/plain": [
       "0.1290101484462325"
      ]
     },
     "execution_count": 18,
     "metadata": {},
     "output_type": "execute_result"
    }
   ],
   "source": [
    "mse1=mse(y_test,y_pred)\n",
    "mse1"
   ]
  },
  {
   "cell_type": "code",
   "execution_count": 19,
   "id": "df48f84a",
   "metadata": {},
   "outputs": [
    {
     "data": {
      "text/plain": [
       "0.3591798274489152"
      ]
     },
     "execution_count": 19,
     "metadata": {},
     "output_type": "execute_result"
    }
   ],
   "source": [
    "rmse=np.sqrt(mse1)\n",
    "rmse"
   ]
  },
  {
   "cell_type": "code",
   "execution_count": 20,
   "id": "36ce55d7",
   "metadata": {},
   "outputs": [
    {
     "data": {
      "text/plain": [
       "0.7484260037409278"
      ]
     },
     "execution_count": 20,
     "metadata": {},
     "output_type": "execute_result"
    }
   ],
   "source": [
    "r2_score(y_test,y_pred)"
   ]
  },
  {
   "cell_type": "code",
   "execution_count": 22,
   "id": "f523c2f3",
   "metadata": {},
   "outputs": [],
   "source": [
    "#Random State Is Resposible To Generate Seed Random Generator So That We Get Same Set Of Train data and Test data For "
   ]
  },
  {
   "cell_type": "code",
   "execution_count": null,
   "id": "5cfcbb18",
   "metadata": {},
   "outputs": [],
   "source": []
  }
 ],
 "metadata": {
  "kernelspec": {
   "display_name": "Python 3 (ipykernel)",
   "language": "python",
   "name": "python3"
  },
  "language_info": {
   "codemirror_mode": {
    "name": "ipython",
    "version": 3
   },
   "file_extension": ".py",
   "mimetype": "text/x-python",
   "name": "python",
   "nbconvert_exporter": "python",
   "pygments_lexer": "ipython3",
   "version": "3.9.16"
  }
 },
 "nbformat": 4,
 "nbformat_minor": 5
}
